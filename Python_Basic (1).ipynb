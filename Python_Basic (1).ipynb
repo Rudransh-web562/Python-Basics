{
  "nbformat": 4,
  "nbformat_minor": 0,
  "metadata": {
    "colab": {
      "provenance": []
    },
    "kernelspec": {
      "name": "python3",
      "display_name": "Python 3"
    },
    "language_info": {
      "name": "python"
    }
  },
  "cells": [
    {
      "cell_type": "markdown",
      "source": [
        "#Python Basics\n"
      ],
      "metadata": {
        "id": "xLQ81oMRoDTv"
      }
    },
    {
      "cell_type": "markdown",
      "source": [
        "1. What is Python, and why is it popular?\n",
        "   -  Python is a high-level, interpreted programming language known for its readability and versatility. It’s\n",
        "popular because of its simple syntax, large community, extensive libraries, and wide applicability, including\n",
        "web development, data analysis, AI, and more."
      ],
      "metadata": {
        "id": "Vh-gxI5dpfjf"
      }
    },
    {
      "cell_type": "markdown",
      "source": [
        "2. What is an interpreter in Python?\n",
        "   -  An interpreter is a program that executes Python code line-by-line, allowing you to run scripts interactively.\n",
        "This makes it easier to debug and develop code quickly.\n",
        "   \n"
      ],
      "metadata": {
        "id": "G9gMlXiLquok"
      }
    },
    {
      "cell_type": "markdown",
      "source": [
        "3. What are pre-defined keywords in Python?\n",
        "   - Pre-defined keywords in Python are reserved words that have a specific meaning and purpose within the\n",
        "language. Examples include if, else, for, while, True, and False."
      ],
      "metadata": {
        "id": "9ub1ZJeZskqt"
      }
    },
    {
      "cell_type": "markdown",
      "source": [
        "4. Can keywords be used as variable names?\n",
        "   - No, keywords cannot be used as variable names as they are reserved be python for specific functionalities."
      ],
      "metadata": {
        "id": "7nSpVY5vtIGa"
      }
    },
    {
      "cell_type": "markdown",
      "source": [
        "5. What is mutability in Python?\n",
        "   - Mutability refers to an object's ability to change its state or content after creation. For example, list are mutable, while tuple are immutable"
      ],
      "metadata": {
        "id": "NtZeGo-TtjPi"
      }
    },
    {
      "cell_type": "markdown",
      "source": [
        "6. Why are lists mutable, but tuples are immutable?\n",
        "  - List are designed to be flexible, so they allow modification of elements. Tuples, on the other hand, are designed as fixed collection, making themm faster and safer in senarios where data should not change."
      ],
      "metadata": {
        "id": "IRFJsPh3uNp4"
      }
    },
    {
      "cell_type": "markdown",
      "source": [
        "7. What is the difference between “==” and “is” operators in Python?\n",
        "   - \"==\" check if the value of two object are equal, while \"is\" checks if two variables point to the same memory location (i.e.' if they are the same object)."
      ],
      "metadata": {
        "id": "Q64kHE_8TnpV"
      }
    },
    {
      "cell_type": "markdown",
      "source": [
        "8. What are logical operators in Python?\n",
        "   - Logical operators are used to combine multiple condition and include and, or, and not."
      ],
      "metadata": {
        "id": "j4ydi6XbWJY7"
      }
    },
    {
      "cell_type": "markdown",
      "source": [
        "9. What is type casting in Python?\n",
        "   - Type casting is the conversion of one data type to another, such as converting an integer to a string or a float."
      ],
      "metadata": {
        "id": "5OqJfU4MYFOb"
      }
    },
    {
      "cell_type": "markdown",
      "source": [
        "10. What is the difference between implicit and explicit type casting?\n",
        "    - Implicit casting is done automatically by python, while explicit casting requires the use of functions like int(), float(), or str() to convert between types."
      ],
      "metadata": {
        "id": "Dc3W-YTsYrZZ"
      }
    },
    {
      "cell_type": "markdown",
      "source": [
        "11. What is the purpose of conditional statements in Python?\n",
        "   - Conditional statements, such as is, elif, and else, allow Python to execute certain blocks of code based on whether a condition is True or False."
      ],
      "metadata": {
        "id": "Kz19TlLBaSrS"
      }
    },
    {
      "cell_type": "markdown",
      "source": [
        "12. How does the elif statement work?\n",
        "   - The elif statement provides additional condition after an intial if. It is only executed if the previous if or elif condition was false."
      ],
      "metadata": {
        "id": "z50B9iR-azcJ"
      }
    },
    {
      "cell_type": "markdown",
      "source": [
        "13. What is the difference between for and while loops?\n",
        "   - Afor loop is typically used when you know the number of iterations in advance, while a while loop is used when the number of iteratins depends ona condition."
      ],
      "metadata": {
        "id": "uAbZBPgebLc5"
      }
    },
    {
      "cell_type": "markdown",
      "source": [
        "14. Describe a scenario where a while loop is more suitable than a for loop.\n",
        "   - A while loop is ideal when you want to countinue looping until a specific condition is mate, like waiting for user input or monitiring a prtocess until it completes.\n",
        "   "
      ],
      "metadata": {
        "id": "PKZSwjKOchMH"
      }
    },
    {
      "cell_type": "markdown",
      "source": [
        "#For answers to practical questions please refer to the link given below."
      ],
      "metadata": {
        "id": "FreYLaEeSHAs"
      }
    },
    {
      "cell_type": "markdown",
      "source": [
        "https://colab.research.google.com/drive/1orpKmJZR9Ek6zYfmH43eNrqvC-LbZqed#scrollTo=GwDS7Em2XYV9"
      ],
      "metadata": {
        "id": "KZtFW5kLkThC"
      }
    }
  ]
}